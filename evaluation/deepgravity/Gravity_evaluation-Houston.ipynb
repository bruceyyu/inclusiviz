{
 "cells": [
  {
   "cell_type": "code",
   "execution_count": 1,
   "id": "58c2f728-6a47-4071-b778-0e30742ffd07",
   "metadata": {},
   "outputs": [],
   "source": [
    "import random\n",
    "import numpy as np\n",
    "import pandas as pd\n",
    "import json\n",
    "import string\n",
    "import os\n",
    "import csv\n",
    "import random\n",
    "import pickle\n",
    "import geopandas as gpd\n",
    "\n",
    "import skmob\n",
    "from skmob.utils import utils, constants\n",
    "from skmob.models.gravity import Gravity"
   ]
  },
  {
   "cell_type": "code",
   "execution_count": 2,
   "id": "e9259a1a-72ed-4a74-8e58-8ab3a06d2b00",
   "metadata": {},
   "outputs": [
    {
     "data": {
      "text/plain": [
       "<module 'skmob' from '/home/yuyue/miniconda3/envs/mobility/lib/python3.11/site-packages/skmob/__init__.py'>"
      ]
     },
     "execution_count": 2,
     "metadata": {},
     "output_type": "execute_result"
    }
   ],
   "source": [
    "skmob"
   ]
  },
  {
   "cell_type": "code",
   "execution_count": 3,
   "id": "d9db7841-b27f-4970-876e-26bcffeb37a4",
   "metadata": {},
   "outputs": [],
   "source": [
    "db_dir = './data/houston'\n",
    "tessellation = gpd.read_file(db_dir+'/tessellation.shp', dtype={\"tile_ID\":str})\n",
    "output_areas = gpd.read_file(db_dir+'/output_areas.shp', dtype={\"oa_ID\":str})"
   ]
  },
  {
   "cell_type": "code",
   "execution_count": 4,
   "id": "d6222e7f-10d2-49c8-998a-92e2fd33f8fe",
   "metadata": {},
   "outputs": [],
   "source": [
    "oa_gdf = pd.read_csv(db_dir + '/processed/oa_gdf.csv.gz', dtype={'geo_code': 'str'})\n",
    "\n",
    "flow_df = pd.read_csv(db_dir +'/processed/all/flows_oa.csv.zip', \\\n",
    "                      dtype={'residence': 'str', 'workplace': 'str'})"
   ]
  },
  {
   "cell_type": "code",
   "execution_count": 5,
   "id": "d5fb90b9-4dcf-4811-ac0d-53b087162bce",
   "metadata": {},
   "outputs": [
    {
     "name": "stderr",
     "output_type": "stream",
     "text": [
      "/tmp/ipykernel_4191023/690305762.py:1: FutureWarning: The default value of numeric_only in DataFrameGroupBy.sum is deprecated. In a future version, numeric_only will default to False. Either specify numeric_only or select only columns which should be valid for the function.\n",
      "  oa_pop = flow_df.groupby('residence').sum()\n"
     ]
    }
   ],
   "source": [
    "oa_pop = flow_df.groupby('residence').sum()\n",
    "oa2pop = oa_pop.to_dict()['commuters']"
   ]
  },
  {
   "cell_type": "code",
   "execution_count": 6,
   "id": "b1105798-c154-4d46-b9d3-cb5d6d78fed2",
   "metadata": {},
   "outputs": [],
   "source": [
    "output_areas['population'] = output_areas['GEOID'].map(oa2pop)\n",
    "output_areas = output_areas[output_areas['population'].notnull()]\n",
    "output_areas['tot_outflow'] = output_areas['population']"
   ]
  },
  {
   "cell_type": "code",
   "execution_count": 7,
   "id": "8f43eb89-9956-4056-86ca-2e922c122bd4",
   "metadata": {},
   "outputs": [],
   "source": [
    "with open(db_dir+'/processed/all/od2flow.pkl', 'rb') as f:\n",
    "    od2flow = pickle.load(f)"
   ]
  },
  {
   "cell_type": "code",
   "execution_count": 8,
   "id": "b3e15d7e-fd48-4a68-8193-a1e54ce3bcbb",
   "metadata": {},
   "outputs": [
    {
     "name": "stderr",
     "output_type": "stream",
     "text": [
      "./utils.py:180: FutureWarning: The default value of numeric_only in DataFrameGroupBy.sum is deprecated. In a future version, numeric_only will default to False. Either specify numeric_only or select only columns which should be valid for the function.\n",
      "  oa_pop = flow_df.groupby('residence').sum()\n"
     ]
    }
   ],
   "source": [
    "from importlib.machinery import SourceFileLoader\n",
    "\n",
    "path = './utils.py'\n",
    "utils = SourceFileLoader('utils', path).load_module()\n",
    "path = './data_loader.py'\n",
    "dgd = SourceFileLoader('dg_data', path).load_module()\n",
    "\n",
    "tileid2oa2features2vals, oa_gdf, flow_df, oa2pop, oa2features, od2flow, oa2centroid = utils.load_data(db_dir,\n",
    "                                                                                                    'tile_ID',\n",
    "                                                                                                    'geometry',\n",
    "                                                                                                    'GEOID',\n",
    "                                                                                                    'geometry',\n",
    "                                                                                                    'geoid_o',\n",
    "                                                                                                    'geoid_d',\n",
    "                                                                                                    'pop_flows',\n",
    "                                                                                                    'all')"
   ]
  },
  {
   "cell_type": "code",
   "execution_count": 9,
   "id": "c1e86870-839d-4872-ad45-623647240774",
   "metadata": {},
   "outputs": [],
   "source": [
    "train_data = [oa for t in pd.read_csv(db_dir + '/processed/train_tiles.csv', header=None, dtype=object)[0].values for oa\n",
    "                in tileid2oa2features2vals[str(t)].keys()]\n",
    "test_data = [oa for t in pd.read_csv(db_dir + '/processed/test_tiles.csv', header=None)[0].values for oa in\n",
    "                tileid2oa2features2vals[str(t)].keys()]"
   ]
  },
  {
   "cell_type": "code",
   "execution_count": 10,
   "id": "cb49953d-665b-48e4-867d-b1cd0c6ecb78",
   "metadata": {},
   "outputs": [
    {
     "name": "stderr",
     "output_type": "stream",
     "text": [
      "100%|██████████| 2139/2139 [00:03<00:00, 672.14it/s] \n",
      "/home/yuyue/miniconda3/envs/mobility/lib/python3.11/site-packages/skmob/models/gravity.py:43: RuntimeWarning: divide by zero encountered in power\n",
      "  return np.power(x, exponent)\n"
     ]
    }
   ],
   "source": [
    "np.random.seed(0)\n",
    "\n",
    "flow_df = pd.DataFrame([{'flow': flow, 'origin': od[0], 'destination': od[1]} for od, flow in od2flow.items()])\n",
    "\n",
    "gravity_singly = Gravity(gravity_type='singly constrained')\n",
    "\n",
    "synth_fdf = gravity_singly.generate(output_areas,\n",
    "                                   tile_id_column='GEOID',\n",
    "                                   tot_outflows_column='tot_outflow',\n",
    "                                   relevance_column= 'population',\n",
    "                                   out_format='flows')"
   ]
  },
  {
   "cell_type": "code",
   "execution_count": 11,
   "id": "2082568b-5128-4806-b151-1bf8df9bc790",
   "metadata": {},
   "outputs": [],
   "source": [
    "test_flow_df = flow_df[flow_df['origin'].isin(test_data)]\n",
    "\n",
    "merge_flow_df = pd.merge(\n",
    "    left=test_flow_df, \n",
    "    right=synth_fdf,\n",
    "    how='left',\n",
    "    left_on=['origin', 'destination'],\n",
    "    right_on=['origin', 'destination'],\n",
    ")\n",
    "\n",
    "merge_flow_df = merge_flow_df[(merge_flow_df['flow_x'].notnull()) & (merge_flow_df['flow_y'].notnull())]"
   ]
  },
  {
   "cell_type": "code",
   "execution_count": 12,
   "id": "69d64cde-1157-42bf-b7e8-37923b02a3af",
   "metadata": {},
   "outputs": [
    {
     "name": "stdout",
     "output_type": "stream",
     "text": [
      "CPC 0.46045260017622425\n",
      "pearson PearsonRResult(statistic=0.38622716440431476, pvalue=0.0)\n",
      "JSD 0.45169923590477074\n",
      "RMSE 245.48516466171512\n",
      "NRMSE 0.008340190414544918\n"
     ]
    }
   ],
   "source": [
    "from scipy import stats\n",
    "from scipy.spatial import distance\n",
    "from skmob.measures.evaluation import nrmse, pearson_correlation, kullback_leibler_divergence, r_squared, rmse\n",
    "\n",
    "def common_part_of_commuters(values1, values2, numerator_only=False):\n",
    "    if numerator_only:\n",
    "        tot = 1.0\n",
    "    else:\n",
    "        tot = (np.sum(values1) + np.sum(values2))\n",
    "    if tot > 0:\n",
    "        return 2.0 * np.sum(np.minimum(values1, values2)) / tot\n",
    "    else:\n",
    "        return 0.0\n",
    "\n",
    "target_flow_list = merge_flow_df['flow_x'].values\n",
    "predicted_flow_list = merge_flow_df['flow_y'].values\n",
    "\n",
    "print(\"CPC\", common_part_of_commuters(target_flow_list, predicted_flow_list))\n",
    "\n",
    "print(\"pearson\", stats.pearsonr(target_flow_list, predicted_flow_list))\n",
    "\n",
    "print(\"JSD\", distance.jensenshannon(target_flow_list, predicted_flow_list))\n",
    "\n",
    "print(\"RMSE\", rmse(target_flow_list, predicted_flow_list))\n",
    "\n",
    "print(\"NRMSE\", rmse(target_flow_list, predicted_flow_list) / (max(target_flow_list) - min(target_flow_list)))"
   ]
  },
  {
   "cell_type": "code",
   "execution_count": null,
   "id": "781e78d7-4838-4d62-9014-171dd840ca1c",
   "metadata": {},
   "outputs": [],
   "source": []
  }
 ],
 "metadata": {
  "kernelspec": {
   "display_name": "mobility",
   "language": "python",
   "name": "mobility"
  },
  "language_info": {
   "codemirror_mode": {
    "name": "ipython",
    "version": 3
   },
   "file_extension": ".py",
   "mimetype": "text/x-python",
   "name": "python",
   "nbconvert_exporter": "python",
   "pygments_lexer": "ipython3",
   "version": "3.11.7"
  }
 },
 "nbformat": 4,
 "nbformat_minor": 5
}
